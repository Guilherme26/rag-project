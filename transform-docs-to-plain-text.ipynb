{
 "cells": [
  {
   "cell_type": "markdown",
   "id": "b70a92f5",
   "metadata": {},
   "source": [
    "### Author: Guilherme Resende\n",
    "\n",
    "This notebook converts documents presented as Markdown content to simple text"
   ]
  },
  {
   "cell_type": "code",
   "execution_count": null,
   "id": "b682478b",
   "metadata": {},
   "outputs": [],
   "source": [
    "import re\n",
    "import os\n",
    "\n",
    "from bs4 import BeautifulSoup\n",
    "from markdown import markdown\n",
    "from tqdm import tqdm"
   ]
  },
  {
   "cell_type": "code",
   "execution_count": null,
   "id": "c54427df",
   "metadata": {},
   "outputs": [],
   "source": [
    "documentations_to_ignore = [\n",
    "    \"aws-example-apps\",\n",
    "    \"amazon-connect-user-guide\",\n",
    "    \"aws-doc-sdk-examples\",\n",
    "    \"amazon-chime-user-guide\",\n",
    "    \"aws-xamarin-developer-guide\",\n",
    "    \"aws-freertos-docs\",\n",
    "    \"aws-cpp-developer-guide\",\n",
    "    \"GuidesPatternsSolutions\",\n",
    "    \"aws-mobile-developer-guide\",\n",
    "    \"aws-android-developer-guide\",\n",
    "    \"aws-unity-developer-guide\",\n",
    "    \"amazon-comprehend-developer-guide\",\n",
    "    \"elastic-beanstalk-samples\",\n",
    "    \"amazon-elasticache-docs\",\n",
    "    \"aws-go-developer-guide\",\n",
    "    \"aws-php-developers-guide\",\n",
    "    \"amazon-lightsail-developer-guide\",\n",
    "    \"aws-java-developer-guide\",\n",
    "    \"aws-java-developer-guide-v2\",\n",
    "    \"aws-doc-shared-content\",\n",
    "    \"aws-ruby-developer-guide\",\n",
    "    \"amazon-machinelearning-developer-guide\",\n",
    "    \"aws-ios-developer-guide\"\n",
    "]"
   ]
  },
  {
   "cell_type": "code",
   "execution_count": null,
   "id": "19ed2774",
   "metadata": {},
   "outputs": [],
   "source": [
    "INPUT_DIR = \"./awsdocs_toy/\"\n",
    "OUTPUT_DIR = \"./awsdocs_plain_text/\"\n",
    "\n",
    "os.mkdir(OUTPUT_DIR)\n",
    "\n",
    "for documentation in tqdm(os.listdir(INPUT_DIR)):\n",
    "    if documentation in documentations_to_ignore:\n",
    "        continue\n",
    "    \n",
    "    os.mkdir(os.path.join(OUTPUT_DIR, documentation))\n",
    "    \n",
    "    documents = os.listdir(os.path.join(INPUT_DIR, documentation))\n",
    "    for document in documents:\n",
    "        if not os.path.isfile(os.path.join(INPUT_DIR, documentation, document)) or not document.endswith(\".md\"):\n",
    "            continue\n",
    "        \n",
    "        with open(os.path.join(INPUT_DIR, documentation, document), 'r') as f:\n",
    "            text = f.read()\n",
    "            \n",
    "            html = markdown(text)\n",
    "            plain_text = ''.join(BeautifulSoup(html).findAll(string=True))\n",
    "        \n",
    "        \n",
    "        document = document.split('.')[0]\n",
    "        with open(os.path.join(OUTPUT_DIR, documentation, f\"{document}.txt\"), 'w') as f:\n",
    "            f.write(plain_text)"
   ]
  },
  {
   "cell_type": "code",
   "execution_count": null,
   "id": "0536b142",
   "metadata": {},
   "outputs": [],
   "source": []
  }
 ],
 "metadata": {
  "kernelspec": {
   "display_name": "challenge_env",
   "language": "python",
   "name": "challenge_env"
  },
  "language_info": {
   "codemirror_mode": {
    "name": "ipython",
    "version": 3
   },
   "file_extension": ".py",
   "mimetype": "text/x-python",
   "name": "python",
   "nbconvert_exporter": "python",
   "pygments_lexer": "ipython3",
   "version": "3.8.10"
  }
 },
 "nbformat": 4,
 "nbformat_minor": 5
}
