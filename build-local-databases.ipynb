{
 "cells": [
  {
   "cell_type": "markdown",
   "id": "e70dc098",
   "metadata": {},
   "source": [
    "### Author: Guilherme Resende\n",
    "\n",
    "This notebook generates the local databases of each strategy to be experimented (See explanation below).\n",
    "\n",
    "---\n",
    "\n",
    "### Reading the files\n",
    "\n",
    "Since we are dealing with Markdown texts, there are unwanted characters throughout the files. The way we read the files depend on the pre-processing steps we want to perform and the chunking strategy we're about to follow. \n",
    "\n",
    "After quickly browsing through the AWS Documentation, I've noticed that each `.md` file comprises an entire text subsection. If the writers follow a reasonable writing strategy, we can assume the texts will not be too long and will be approximately self-contained. Hence, the first chunking alternative is already given, that is, read and chunk each `.md` file as it is.\n",
    "\n",
    "The second alternative we will test here is based on concatenating the entire pieces of texts into one concise article, and subsequently proceed to a recursive chunking based on text separators and pre-defined chunk sizes."
   ]
  },
  {
   "cell_type": "code",
   "execution_count": null,
   "id": "1d239d92",
   "metadata": {},
   "outputs": [],
   "source": [
    "import json\n",
    "import os\n",
    "\n",
    "credentials=None\n",
    "with open(\"credentials.json\", 'r') as f:\n",
    "    credentials = json.load(f)\n",
    "\n",
    "os.environ[\"OPENAI_API_KEY\"] = credentials[\"OPENAI_API_KEY\"]"
   ]
  },
  {
   "cell_type": "code",
   "execution_count": null,
   "id": "4042ecf4",
   "metadata": {},
   "outputs": [],
   "source": [
    "__import__('pysqlite3')\n",
    "import sys\n",
    "sys.modules['sqlite3'] = sys.modules.pop('pysqlite3')\n",
    "\n",
    "from langchain.vectorstores import Chroma\n",
    "from langchain.embeddings import OpenAIEmbeddings\n",
    "from langchain.text_splitter import RecursiveCharacterTextSplitter\n",
    "from langchain.llms import OpenAI\n",
    "from langchain.chains import RetrievalQA\n",
    "from langchain.document_loaders import TextLoader\n",
    "from langchain.document_loaders import DirectoryLoader, UnstructuredMarkdownLoader"
   ]
  },
  {
   "cell_type": "code",
   "execution_count": null,
   "id": "c8385a98",
   "metadata": {},
   "outputs": [],
   "source": [
    "# loader = DirectoryLoader('./awsdocs_merged/', glob=\"*.txt\", loader_cls=TextLoader)\n",
    "loader = DirectoryLoader('./awsdocs_plain_text/', glob=\"*/*.txt\", loader_cls=TextLoader)\n",
    "\n",
    "documents = loader.load()"
   ]
  },
  {
   "cell_type": "code",
   "execution_count": null,
   "id": "72bed377",
   "metadata": {},
   "outputs": [],
   "source": [
    "len(documents)"
   ]
  },
  {
   "cell_type": "code",
   "execution_count": null,
   "id": "27aa355d",
   "metadata": {},
   "outputs": [],
   "source": []
  },
  {
   "cell_type": "code",
   "execution_count": null,
   "id": "8e6aa89f",
   "metadata": {},
   "outputs": [],
   "source": [
    "CHUNK_SIZE = 2048\n",
    "OVERLAP = 256\n",
    "\n",
    "recursive_splitter = RecursiveCharacterTextSplitter(\n",
    "    separators=[\"\\n\\n\", \"\\n\"],\n",
    "    chunk_size=CHUNK_SIZE,\n",
    "    chunk_overlap=OVERLAP\n",
    ")\n",
    "\n",
    "chunked_documents = recursive_splitter.split_documents(documents)"
   ]
  },
  {
   "cell_type": "code",
   "execution_count": null,
   "id": "acf548e4",
   "metadata": {},
   "outputs": [],
   "source": []
  },
  {
   "cell_type": "code",
   "execution_count": null,
   "id": "58594394",
   "metadata": {},
   "outputs": [],
   "source": [
    "n = len(chunked_documents)\n",
    "\n",
    "print(f\"There are {n} chunks of data.\")"
   ]
  },
  {
   "cell_type": "code",
   "execution_count": null,
   "id": "6ca57fdb",
   "metadata": {},
   "outputs": [],
   "source": [
    "persist_directory = f\"db_chunk_size_{CHUNK_SIZE}\"\n",
    "\n",
    "embedding = OpenAIEmbeddings()\n",
    "\n",
    "vectordb = Chroma.from_documents(\n",
    "    documents=chunked_documents, \n",
    "    embedding=embedding,\n",
    "    persist_directory=persist_directory\n",
    ")"
   ]
  },
  {
   "cell_type": "code",
   "execution_count": null,
   "id": "bedeed76",
   "metadata": {},
   "outputs": [],
   "source": [
    "vectordb.persist()"
   ]
  },
  {
   "cell_type": "code",
   "execution_count": null,
   "id": "7d7d07bf",
   "metadata": {},
   "outputs": [],
   "source": []
  }
 ],
 "metadata": {
  "kernelspec": {
   "display_name": "challenge_env",
   "language": "python",
   "name": "challenge_env"
  },
  "language_info": {
   "codemirror_mode": {
    "name": "ipython",
    "version": 3
   },
   "file_extension": ".py",
   "mimetype": "text/x-python",
   "name": "python",
   "nbconvert_exporter": "python",
   "pygments_lexer": "ipython3",
   "version": "3.8.10"
  }
 },
 "nbformat": 4,
 "nbformat_minor": 5
}
