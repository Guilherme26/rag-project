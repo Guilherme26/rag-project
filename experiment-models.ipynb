{
 "cells": [
  {
   "cell_type": "markdown",
   "id": "70eaa4a1",
   "metadata": {},
   "source": [
    "### Author: Guilherme Resende\n",
    "\n",
    "This notebook assess the quality of the candidate embeddings in retrieving adequate chunks of context and generating relevant answers.\n",
    "\n",
    "For simplicity sake, I decided to leave the Embedding (`text-embedding-ada-002`) and Language Model (`gpt-3.5-turbo-instruct`) as the default models defined by OpenAI. The chunking strategies we experiment here are:\n",
    "\n",
    "- Merging Documents:\n",
    "    - Chunk Size: 1024\n",
    "    - Chunk Size: 2048\n",
    "- Keeping Original Documents:\n",
    "    - Chunk Size: 2048\n",
    "    \n",
    "I decided to use a Retrieval-Augmented Generation (RAG) approach. Since this approach builds outputs based on previously retrieved document, and the reponse's most important aspect is the text quality and relevance, I validate the output quality with regard to three metrics:\n",
    "\n",
    "- Faithfulness: What proportion of the claims are correct matches (answer/context), when compared to the number of total claims? The closest to 1, the better.\n",
    "\n",
    "- Answer Relevancy: Asks the model to generate N questions relative to the generated answer. Posteriorly we calculate the average cosine similarity between the generated answer and the \"artificial questions\". The closest to 1, the better.\n",
    "\n",
    "- Semantic Quality: Manual validation to rank the responses according to their fitness to the ground truth\n",
    "\n",
    "The chunking approach that best performs on the examples will the chosen as the final solution."
   ]
  },
  {
   "cell_type": "code",
   "execution_count": 1,
   "id": "9bb86893",
   "metadata": {},
   "outputs": [],
   "source": [
    "import json\n",
    "import os\n",
    "\n",
    "credentials=None\n",
    "with open(\"credentials.json\", 'r') as f:\n",
    "    credentials = json.load(f)\n",
    "\n",
    "os.environ[\"OPENAI_API_KEY\"] = credentials[\"OPENAI_API_KEY\"]"
   ]
  },
  {
   "cell_type": "code",
   "execution_count": 5,
   "id": "0abb9ada",
   "metadata": {},
   "outputs": [],
   "source": [
    "__import__('pysqlite3')\n",
    "import sys\n",
    "sys.modules['sqlite3'] = sys.modules.pop('pysqlite3')\n",
    "\n",
    "from datasets import Dataset\n",
    "from ragas import evaluate\n",
    "from ragas.metrics import faithfulness, answer_relevancy\n",
    "from langchain.vectorstores import Chroma\n",
    "from langchain.embeddings import OpenAIEmbeddings\n",
    "from langchain.text_splitter import RecursiveCharacterTextSplitter\n",
    "from langchain.llms import OpenAI\n",
    "from langchain.chains import RetrievalQA\n",
    "from langchain.document_loaders import TextLoader\n",
    "from langchain.document_loaders import DirectoryLoader, UnstructuredMarkdownLoader\n",
    "from llama_index.core.evaluation import (\n",
    "    FaithfulnessEvaluator,\n",
    "    RelevancyEvaluator\n",
    ")"
   ]
  },
  {
   "cell_type": "code",
   "execution_count": null,
   "id": "7c0ca1ec",
   "metadata": {},
   "outputs": [],
   "source": [
    "persist_directory = \"db_chunk_size_1024\"\n",
    "\n",
    "embedding = OpenAIEmbeddings()\n",
    "\n",
    "vectordb = Chroma(persist_directory=persist_directory, embedding_function=embedding)"
   ]
  },
  {
   "cell_type": "code",
   "execution_count": null,
   "id": "27af1744",
   "metadata": {},
   "outputs": [],
   "source": [
    "# Define the number of closest neighbors to be considered in the search\n",
    "retriever = vectordb.as_retriever(search_kwargs={\"k\": 3})"
   ]
  },
  {
   "cell_type": "markdown",
   "id": "405125c8",
   "metadata": {},
   "source": [
    "**Build a model based on a processing chain**"
   ]
  },
  {
   "cell_type": "code",
   "execution_count": null,
   "id": "db190064",
   "metadata": {},
   "outputs": [],
   "source": [
    "model = OpenAI()\n",
    "\n",
    "qa_chain = RetrievalQA.from_chain_type(\n",
    "    llm=model, \n",
    "    chain_type=\"stuff\", \n",
    "    retriever=retriever, \n",
    "    return_source_documents=True\n",
    ")"
   ]
  },
  {
   "cell_type": "markdown",
   "id": "8057b648",
   "metadata": {},
   "source": [
    "**Validation Questions**"
   ]
  },
  {
   "cell_type": "code",
   "execution_count": null,
   "id": "45c81942",
   "metadata": {},
   "outputs": [],
   "source": [
    "questions = [\n",
    "    \"How much space can I use in S3 Free Tier?\",\n",
    "    \"How many storage classes are there in S3?\",\n",
    "    \"How to control inbound and outbound traffic in RDS?\",\n",
    "    \"What types of databases does RDS support?\",\n",
    "    \"How to create a VPC in AWS console?\",\n",
    "    \"How many roles can a user have in AWS IAM?\",\n",
    "    \"How do I define temporary roles in AWS for people from outside of my organization?\",\n",
    "    \"What is an AWS S3 bucket?\",\n",
    "    \"What is AWS KMS?\",\n",
    "    \"How many cryptographic algorithms can I choose in AWS KMS, and what are they?\"\n",
    "]\n",
    "\n",
    "ground_truths = [\n",
    "    \"The AWS Free Tier for Amazon S3 provides 5 GB of standard storage\",\n",
    "    \"\"\"Amazon Simple Storage Service (S3) has seven storage classes: S3 Standard, \n",
    "S3 Intelligent-Tiering, S3 Standard-Infrequent Access (S3 Standard-IA), \\\n",
    "S3 One Zone-Infrequent Access (S3 One Zone-IA), S3 Glacier, S3 Glacier Deep Archive, and S3 Outposts\"\"\",\n",
    "    \"\"\"To control inbound and outbound traffic to an RDS database, you can use \\\n",
    "AWS Security Groups and Network Access Control Lists (NACLs)\"\"\",\n",
    "    \"\"\"Amazon Relational Database Service (RDS) supports a variety of database types, \\\n",
    "including: Amazon Aurora, AWS Oracle, MariaDB, Microsoft SQL Server, MySQL, and PostgreSQL\"\"\",\n",
    "    \"\"\"To create a Virtual Private Cloud (VPC) in the AWS console, you can do the following: \\\n",
    "Open the AWS console; Select Services; Type \"\"VPC\"\" in the search box and select VPC from the list; \\\n",
    "Select Your VPCs from the navigation pane on the left; Click Create VPC; Enter a name for the VPC in the Name tag field; \\\n",
    "For IPv4 CIDR block, you can either manually enter an IPv4 address range or select an IPAM-allocated IPv4 CIDR block; \\\n",
    "Click Yes, Create\"\"\",\n",
    "    \"The default maximum number of roles that can be created per profile in an AWS Identity and Access Management (IAM) account is 250.\",\n",
    "    \"\"\"To define temporary roles in AWS for people outside of your organization, you can use the AWS Security \\\n",
    "Token Service (AWS STS) to create temporary security credentials. These credentials can be granted to trusted \\\n",
    "users to access your AWS resources. You can also use the AWS External ID to ensure that only authorized \\\n",
    "entities can assume a role. Service providers can use External IDs to assume roles on behalf of their customers.\"\"\",\n",
    "    \"\"\"An AWS S3 bucket is a container for storing objects in Amazon Web Services (AWS) Simple Storage \\\n",
    "Service (S3). S3 buckets are similar to file folders and can be used to store, retrieve, back up, and \\\n",
    "access objects\"\"\",\n",
    "    \"\"\"AWS Key Management Service (KMS) gives you control over the cryptographic keys used to protect \\\n",
    "your data. AWS KMS provides you with centralized control over the lifecycle and permissions of your keys.\"\"\",\n",
    "    \"\"\"AWS Key Management Service (KMS) supports multiple cryptographic algorithms, including asymmetric \\\n",
    "and symmetric algorithms. Asymmetric algorithms: RSA 2048, RSA 3072, RSA 4096, ECC NIST P-256, ECC NIST P-384, \\\n",
    "ECC NIST-521, ECC SECG P-256k1. Symmetric algorithms: Advanced Encryption Standard (AES) with 128-, \\\n",
    "192-, or 256-bit keys, Triple DES (3DES) which uses three 56-bit keys.\"\"\"\n",
    "]\n",
    "\n",
    "contexts = []\n",
    "answers = []\n",
    "for q in questions:\n",
    "    answers.append(qa_chain(q)[\"result\"])\n",
    "    contexts.append([doc.page_content for doc in retriever.get_relevant_documents(q)])"
   ]
  },
  {
   "cell_type": "code",
   "execution_count": null,
   "id": "35ecc762",
   "metadata": {},
   "outputs": [],
   "source": [
    "data = {\n",
    "    \"question\": questions,\n",
    "    \"answer\": answers,\n",
    "    \"contexts\": contexts,\n",
    "    \"ground_truths\": ground_truths\n",
    "}\n",
    "\n",
    "dataset = Dataset.from_dict(data)"
   ]
  },
  {
   "cell_type": "code",
   "execution_count": null,
   "id": "5c72cc8c",
   "metadata": {},
   "outputs": [],
   "source": [
    "evals = evaluate(\n",
    "    dataset=dataset,\n",
    "    metrics=[faithfulness, answer_relevancy],\n",
    ")"
   ]
  },
  {
   "cell_type": "code",
   "execution_count": null,
   "id": "5a01c601",
   "metadata": {},
   "outputs": [],
   "source": [
    "df_evals = evals.to_pandas()"
   ]
  },
  {
   "cell_type": "code",
   "execution_count": null,
   "id": "36bb65e8",
   "metadata": {},
   "outputs": [],
   "source": [
    "df_evals"
   ]
  }
 ],
 "metadata": {
  "kernelspec": {
   "display_name": "new-env",
   "language": "python",
   "name": "new-env"
  },
  "language_info": {
   "codemirror_mode": {
    "name": "ipython",
    "version": 3
   },
   "file_extension": ".py",
   "mimetype": "text/x-python",
   "name": "python",
   "nbconvert_exporter": "python",
   "pygments_lexer": "ipython3",
   "version": "3.8.10"
  }
 },
 "nbformat": 4,
 "nbformat_minor": 5
}
