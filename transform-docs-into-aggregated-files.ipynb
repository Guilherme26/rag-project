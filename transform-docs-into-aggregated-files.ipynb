{
 "cells": [
  {
   "cell_type": "markdown",
   "id": "5d1f4655",
   "metadata": {},
   "source": [
    "### Author: Guilherme Resende\n",
    "\n",
    "This notebook builds an alternative dataset aggregating all subsections of the documentation in one file following the `index.md` structure.\n",
    "\n",
    "---\n",
    "\n",
    "### Concatenation Strategy\n",
    "\n",
    "The concatenation strategy assumes that every piece of documentation is listed in a index (named `index.md`) about the subject. To start concatenating the subsections of documentation into their macro topic we need to verify if every documentation has an `index.md` file, or even if it has any Markdown file."
   ]
  },
  {
   "cell_type": "code",
   "execution_count": null,
   "id": "30e4715f",
   "metadata": {},
   "outputs": [],
   "source": [
    "import os\n",
    "import re\n",
    "\n",
    "from bs4 import BeautifulSoup\n",
    "from markdown import markdown\n",
    "from tqdm import tqdm"
   ]
  },
  {
   "cell_type": "code",
   "execution_count": null,
   "id": "14efe1b0",
   "metadata": {},
   "outputs": [],
   "source": [
    "count = 0\n",
    "no_index = []\n",
    "for documentation in os.listdir(\"./awsdocs\"):\n",
    "    documents = os.listdir(f\"./awsdocs/{documentation}\")\n",
    "    if \"index.md\" in documents:\n",
    "        count += 1\n",
    "    else:\n",
    "        no_index.append(documentation)"
   ]
  },
  {
   "cell_type": "code",
   "execution_count": null,
   "id": "68000087",
   "metadata": {},
   "outputs": [],
   "source": [
    "print(f\"There are {len(no_index)} directories/subjects without an `index.md` file\")"
   ]
  },
  {
   "cell_type": "markdown",
   "id": "f6c554d6",
   "metadata": {},
   "source": [
    "Let's see the list of directories"
   ]
  },
  {
   "cell_type": "code",
   "execution_count": null,
   "id": "9a17174a",
   "metadata": {},
   "outputs": [],
   "source": [
    "explanations = [\n",
    "    \"[FIXED] There were version subdirectories. Inside those there is an index file.\",\n",
    "    \"[LEFT-OUT] There were subdirectories often without `.md` files.\",\n",
    "    \"[LEFT-OUT] The documentation was moved to another directory.\",\n",
    "    \"[LEFT-OUT] There were subdirectories often without `.md` files.\",\n",
    "    \"[LEFT-OUT] Empty directory.\",\n",
    "    \"[FIXED] There was a subdirectory with all files.\",\n",
    "    \"[LEFT-OUT] There was no `.md` files.\",\n",
    "    \"[LEFT-OUT] Empty directory.\",\n",
    "    \"[FIXED] There was a subdirectory with all files.\",\n",
    "    \"[LEFT-OUT] There was no `.md` files.\",\n",
    "    \"[LEFT-OUT] Empty directory.\",\n",
    "    \"[LEFT-OUT] There was no `.md` files.\",\n",
    "    \"[LEFT-OUT] There was no `.md` files.\",\n",
    "    \"[LEFT-OUT] There was no `.md` files.\",\n",
    "    \"[LEFT-OUT] Empty directory.\",\n",
    "    \"[FIXED] There was a subdirectory with all files.\",\n",
    "    \"[LEFT-OUT] There were subdirectories often without `.md` files.\",\n",
    "    \"[LEFT-OUT] Empty directory.\",\n",
    "    \"[LEFT-OUT] There was no `.md` files.\",\n",
    "    \"[LEFT-OUT] There was no `.md` files.\",\n",
    "    \"[NEED-FIXING] No index, but many `.md` files.\"\n",
    "    \"[LEFT-OUT] There was no `.md` files.\",\n",
    "    \"[LEFT-OUT] There were subdirectories often without `.md` files.\",\n",
    "    \"[FIXED] There was a subdirectory with all files.\",\n",
    "    \"[FIXED] There was a subdirectory with all files.\",\n",
    "    \"[LEFT-OUT] There was no `.md` files.\",\n",
    "    \"[LEFT-OUT] There were subdirectories often without `.md` files.\",\n",
    "    \"[FIXED] There was a subdirectory with all files.\",\n",
    "    \"[LEFT-OUT] There were subdirectories often without `.md` files.\",\n",
    "    \"[FIXED] There was a subdirectory with all files.\",\n",
    "    \"[LEFT-OUT] Empty directory.\",\n",
    "    \"[LEFT-OUT] There were subdirectories often without `.md` files.\",\n",
    "]\n",
    "\n",
    "for directory, explanation in zip(no_index, explanations):\n",
    "    print(\"---------------------------------------------\")\n",
    "    print(directory)\n",
    "    print(f\"- {explanation}\")"
   ]
  },
  {
   "cell_type": "markdown",
   "id": "c97a4818",
   "metadata": {},
   "source": [
    "--- \n",
    "**Processing Decision**\n",
    "\n",
    "Since there were only a few problematic cases, I decided to fix what was fixable with a small effort and decided to simply ignore the remaining pieces of documentation given they either comprise code examples or other file formats."
   ]
  },
  {
   "cell_type": "code",
   "execution_count": null,
   "id": "18641abc",
   "metadata": {},
   "outputs": [],
   "source": [
    "documentations_to_ignore = [\n",
    "    \"aws-example-apps\",\n",
    "    \"amazon-connect-user-guide\",\n",
    "    \"aws-doc-sdk-examples\",\n",
    "    \"amazon-chime-user-guide\",\n",
    "    \"aws-xamarin-developer-guide\",\n",
    "    \"aws-freertos-docs\",\n",
    "    \"aws-cpp-developer-guide\",\n",
    "    \"GuidesPatternsSolutions\",\n",
    "    \"aws-mobile-developer-guide\",\n",
    "    \"aws-android-developer-guide\",\n",
    "    \"aws-unity-developer-guide\",\n",
    "    \"amazon-comprehend-developer-guide\",\n",
    "    \"elastic-beanstalk-samples\",\n",
    "    \"amazon-elasticache-docs\",\n",
    "    \"aws-go-developer-guide\",\n",
    "    \"aws-php-developers-guide\",\n",
    "    \"amazon-lightsail-developer-guide\",\n",
    "    \"aws-java-developer-guide\",\n",
    "    \"aws-java-developer-guide-v2\",\n",
    "    \"aws-doc-shared-content\",\n",
    "    \"aws-ruby-developer-guide\",\n",
    "    \"amazon-machinelearning-developer-guide\",\n",
    "    \"aws-ios-developer-guide\"\n",
    "]"
   ]
  },
  {
   "cell_type": "markdown",
   "id": "aacf7e84",
   "metadata": {},
   "source": [
    "#### Build the Alternative Dataset"
   ]
  },
  {
   "cell_type": "code",
   "execution_count": null,
   "id": "0dd33de5",
   "metadata": {
    "scrolled": true
   },
   "outputs": [],
   "source": [
    "INPUT_DIR = \"./awsdocs_toy/\"\n",
    "OUTPUT_DIR = \"./awsdocs_merged/\"\n",
    "\n",
    "os.mkdir(OUTPUT_DIR)\n",
    "\n",
    "for documentation in tqdm(os.listdir(INPUT_DIR)):\n",
    "    if documentation in documentations_to_ignore:\n",
    "        continue\n",
    "    \n",
    "    documents = os.listdir(os.path.join(INPUT_DIR, documentation))\n",
    "\n",
    "    name_to_content = {}\n",
    "    for document in documents:\n",
    "        if not os.path.isfile(os.path.join(INPUT_DIR, documentation, document)) or not document.endswith(\".md\"):\n",
    "            continue\n",
    "        \n",
    "        with open(os.path.join(INPUT_DIR, documentation, document), 'r') as f:\n",
    "            subsection_text = f.read()\n",
    "            html = markdown(subsection_text)\n",
    "\n",
    "        # Create a mapping from document name to its content\n",
    "        name_to_content[document] = ''.join(BeautifulSoup(html).findAll(string=True))\n",
    "    \n",
    "    # Reads the index file and finds every occurence of a []() markdown pattern. \n",
    "    # It represents a place to insert the content of the referenced file\n",
    "    with open(os.path.join(INPUT_DIR, documentation, \"index.md\"), 'r') as f:\n",
    "        base_text = f.read()\n",
    "        matches = re.findall(r\"(\\[.*\\]\\((.*)\\))\", base_text)\n",
    "\n",
    "    # Replace the pattern to the content\n",
    "    for match, filename in matches:\n",
    "        if filename in name_to_content:\n",
    "            base_text = base_text.replace(match, name_to_content[filename])\n",
    "\n",
    "    document = documentation.replace('-', '_')\n",
    "    # Converts the index file to plain text and writes the final version to the new directory\n",
    "    with open(os.path.join(OUTPUT_DIR, f\"{document}.txt\"), 'w') as f:\n",
    "        html = markdown(base_text)\n",
    "        base_text = ''.join(BeautifulSoup(html).findAll(string=True))\n",
    "        f.write(base_text)"
   ]
  }
 ],
 "metadata": {
  "kernelspec": {
   "display_name": "challenge_env",
   "language": "python",
   "name": "challenge_env"
  },
  "language_info": {
   "codemirror_mode": {
    "name": "ipython",
    "version": 3
   },
   "file_extension": ".py",
   "mimetype": "text/x-python",
   "name": "python",
   "nbconvert_exporter": "python",
   "pygments_lexer": "ipython3",
   "version": "3.8.10"
  }
 },
 "nbformat": 4,
 "nbformat_minor": 5
}
